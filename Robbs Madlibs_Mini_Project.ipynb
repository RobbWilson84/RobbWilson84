{
  "nbformat": 4,
  "nbformat_minor": 0,
  "metadata": {
    "colab": {
      "name": "Madlibs Mini Project.ipynb",
      "provenance": [],
      "collapsed_sections": [],
      "include_colab_link": true
    },
    "kernelspec": {
      "name": "python3",
      "display_name": "Python 3"
    }
  },
  "cells": [
    {
      "cell_type": "markdown",
      "metadata": {
        "id": "view-in-github",
        "colab_type": "text"
      },
      "source": [
        "<a href=\"https://colab.research.google.com/github/RobbWilson84/RobbWilson84/blob/main/Robbs%20Madlibs_Mini_Project.ipynb\" target=\"_parent\"><img src=\"https://colab.research.google.com/assets/colab-badge.svg\" alt=\"Open In Colab\"/></a>"
      ]
    },
    {
      "cell_type": "markdown",
      "metadata": {
        "id": "hfYzBHsYgy0C"
      },
      "source": [
        "# What is a Madlib Story?\n",
        "---\n",
        "\n",
        "It is a quirky, funny story or poem made up of strange words. Python will hold the main story, and inputs will be used to fill in the blanks to make your story ridiculous or funny.\n",
        "\n",
        "# Example\n",
        "---\n",
        "Multiline strings are strings that cover more than one line. They start with 3 speech marks (\"\"\") and end with another 3 speech marks. Any text in between is thought of one string.  (It prevents the need to use \\n to create a new line in code)\n",
        "\n",
        "```\n",
        "story = \"\"\"\n",
        "Roses are {}\n",
        "Violets are {}\n",
        "and you make me feel { } of you!\n",
        "\"\"\"\n",
        "```\n",
        "# Story Using string.format()\n",
        "____\n",
        "The story has been set, but it needs input to replace the {} with what the user wants to add.\n",
        "\n",
        "Assume that the first and second placeholders would be colours,  and the 3rd placeholder is an emotion or feeling.  Create user inputs to follow this.\n",
        "\n",
        "```\n",
        "Example:\n",
        "colour1 = input(\"what colour are roses? \")\n",
        "```\n",
        "To complete the story, ask the user for input to replace each bracket.  Good inputs would be colour, colour 2 and adjective. These will be used ***in order*** when the story is printed.\n",
        "\n",
        "# How to Run the Story\n",
        "___\n",
        "\n",
        "The easy way to run this story is to use string.format().  This requires the variable names to be passed into the story as part of .format:\n",
        "\n",
        "```\n",
        "print(story.format(colour1, colour2, feeling))\n",
        "```\n"
      ]
    },
    {
      "cell_type": "code",
      "source": [
        "story = \"\"\"\n",
        "Roses are {}\n",
        "Violets are {}\n",
        "and you make me feel { } of you!\n",
        "\"\"\""
      ],
      "metadata": {
        "id": "4ofDhE8ZPd4N"
      },
      "execution_count": null,
      "outputs": []
    },
    {
      "cell_type": "code",
      "source": [
        "def madlib():\n",
        "  story = \"\"\"\n",
        "  Roses are {}\n",
        "  Violets are {}\n",
        "  and you make me feel {} of you!\n",
        "  \"\"\"\n",
        "\n",
        "  colour1 = input(\"what colour are roses? \")\n",
        "  colour2 = input(\"what colour are Violets? \")\n",
        "  feeling = input(\"How does this person make you feel? \")\n",
        "\n",
        "  print(story.format(colour1, colour2, feeling))\n",
        "\n",
        "madlib()"
      ],
      "metadata": {
        "colab": {
          "base_uri": "https://localhost:8080/"
        },
        "id": "KJouwimtPRXf",
        "outputId": "b8272c0f-eb43-4789-9f5b-5f647943ad29"
      },
      "execution_count": 10,
      "outputs": [
        {
          "output_type": "stream",
          "name": "stdout",
          "text": [
            "what colour are roses? red\n",
            "what colour are Violets? blue\n",
            "How does this person make you feel? loved\n",
            "\n",
            "  Roses are red\n",
            "  Violets are blue\n",
            "  and you make me feel loved of you!\n",
            "  \n"
          ]
        }
      ]
    },
    {
      "cell_type": "markdown",
      "source": [
        "#Using Keyword Arguments\n",
        "____\n",
        "\n",
        "```\n",
        "story = \"\"\"\n",
        "Roses are {colour}\n",
        "Violets are {colour2}\n",
        "and you make me feel {emotion} with you!\n",
        "\"\"\"\n",
        "```\n",
        "\n",
        "Notice that in this example, the placeholders have a sensible name (keyword) to help identify which information is being added to where in the story.  This means that the inputs can be asked for in any order, but it changes how the string.format() method is run as the variable name has to be linked to the keyword:\n",
        "\n",
        "```\n",
        "print(story.format(colour=colour, colour2=colour2, emotion=emotion))\n",
        "```\n",
        "This assumes that the variable names for the inputs are colour, colour2 and emotion.\n",
        "\n",
        "###Have a go\n",
        "____\n",
        "\n",
        "Try this out in the cell below:\n"
      ],
      "metadata": {
        "id": "9ZyckHS8dVW2"
      }
    },
    {
      "cell_type": "code",
      "metadata": {
        "id": "YJeP2teXC0cV",
        "colab": {
          "base_uri": "https://localhost:8080/"
        },
        "outputId": "4ca993ce-3800-467a-f7c9-d7e8264e7ec7"
      },
      "source": [
        "\n",
        "def madlib():\n",
        "  story = \"\"\"\n",
        "  Roses are {colour1}\n",
        "  Violets are {colour2}\n",
        "  and you make me feel {emotion} of you!\n",
        "  \"\"\"\n",
        "\n",
        "  colour1 = input(\"what colour are roses? \")\n",
        "  colour2 = input(\"what colour are Violets? \")\n",
        "  emotion = input(\"How does this person make you feel? \")\n",
        "\n",
        "  print(story.format(colour1=colour1, colour2=colour2, emotion=emotion))\n",
        "\n",
        "madlib()"
      ],
      "execution_count": 17,
      "outputs": [
        {
          "output_type": "stream",
          "name": "stdout",
          "text": [
            "what colour are roses? red\n",
            "what colour are Violets? blue\n",
            "How does this person make you feel? emotion\n",
            "\n",
            "  Roses are red\n",
            "  Violets are blue\n",
            "  and you make me feel emotion of you!\n",
            "  \n"
          ]
        }
      ]
    },
    {
      "cell_type": "markdown",
      "source": [
        "# Create Your Own Story\n",
        "_____\n",
        "\n",
        "This site has lots of silly stories to choose from:\n",
        "\n",
        "https://www.squiglysplayhouse.com/WritingCorner/StoryBuilder/\n",
        "\n",
        "Choose a story and code the madlibs for this story into the cell below."
      ],
      "metadata": {
        "id": "uTI9iQpsiks1"
      }
    },
    {
      "cell_type": "code",
      "source": [
        "\n",
        "def madlib():\n",
        "  story = \"\"\"\n",
        "  There once was a person named {colour1}\n",
        "  who had an annoying pet called {colour2}\n",
        "  when {colour2} got {emotion}\n",
        "  It would jump up and {action}\n",
        "  \"\"\"\n",
        "\n",
        "  colour1 = input(\"Enter your name? \")\n",
        "  colour2 = input(\"Enter a random name? \")\n",
        "  emotion = input(\"Enter an emotion \")\n",
        "  action = input(\"Enter an action \")\n",
        "\n",
        "  print(story.format(colour1=colour1, colour2=colour2, emotion=emotion, action=action))\n",
        "\n",
        "madlib()"
      ],
      "metadata": {
        "id": "1x6W4Uzpi3FX",
        "colab": {
          "base_uri": "https://localhost:8080/"
        },
        "outputId": "68ae8844-240f-4360-c805-a8082f49f04d"
      },
      "execution_count": 21,
      "outputs": [
        {
          "output_type": "stream",
          "name": "stdout",
          "text": [
            "Enter your name? Robb\n",
            "Enter a random name? Barry\n",
            "Enter an emotion Angry\n",
            "Enter an action Dance\n",
            "\n",
            "  There once was a person named Robb\n",
            "  who had an annoying pet called Barry\n",
            "  when Barry got Angry\n",
            "  It would jump up and Dance\n",
            "  \n"
          ]
        }
      ]
    }
  ]
}