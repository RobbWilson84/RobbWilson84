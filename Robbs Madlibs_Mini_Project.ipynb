{
  "nbformat": 4,
  "nbformat_minor": 0,
  "metadata": {
    "colab": {
      "name": "Madlibs Mini Project.ipynb",
      "provenance": [],
      "collapsed_sections": [],
      "include_colab_link": true
    },
    "kernelspec": {
      "name": "python3",
      "display_name": "Python 3"
    }
  },
  "cells": [
    {
      "cell_type": "markdown",
      "metadata": {
        "id": "view-in-github",
        "colab_type": "text"
      },
      "source": [
        "<a href=\"https://colab.research.google.com/github/RobbWilson84/RobbWilson84/blob/main/Robbs%20Madlibs_Mini_Project.ipynb\" target=\"_parent\"><img src=\"https://colab.research.google.com/assets/colab-badge.svg\" alt=\"Open In Colab\"/></a>"
      ]
    },
    {
      "cell_type": "markdown",
      "metadata": {
        "id": "hfYzBHsYgy0C"
      },
      "source": [
        "# What is a Madlib Story?\n",
        "---\n",
        "\n",
        "It is a quirky, funny story or poem made up of strange words. Python will hold the main story, and inputs will be used to fill in the blanks to make your story ridiculous or funny.\n",
        "\n",
        "# Example\n",
        "---\n",
        "Multiline strings are strings that cover more than one line. They start with 3 speech marks (\"\"\") and end with another 3 speech marks. Any text in between is thought of one string.  (It prevents the need to use \\n to create a new line in code)\n",
        "\n",
        "```\n",
        "story = \"\"\"\n",
        "Roses are {}\n",
        "Violets are {}\n",
        "and you make me feel { } of you!\n",
        "\"\"\"\n",
        "```\n",
        "# Story Using string.format()\n",
        "____\n",
        "The story has been set, but it needs input to replace the {} with what the user wants to add.\n",
        "\n",
        "Assume that the first and second placeholders would be colours,  and the 3rd placeholder is an emotion or feeling.  Create user inputs to follow this.\n",
        "\n",
        "```\n",
        "Example:\n",
        "colour1 = input(\"what colour are roses? \")\n",
        "```\n",
        "To complete the story, ask the user for input to replace each bracket.  Good inputs would be colour, colour 2 and adjective. These will be used ***in order*** when the story is printed.\n",
        "\n",
        "# How to Run the Story\n",
        "___\n",
        "\n",
        "The easy way to run this story is to use string.format().  This requires the variable names to be passed into the story as part of .format:\n",
        "\n",
        "```\n",
        "print(story.format(colour1, colour2, feeling))\n",
        "```\n"
      ]
    },
    {
      "cell_type": "code",
      "source": [
        "story = \"\"\"\n",
        "Roses are {}\n",
        "Violets are {}\n",
        "and you make me feel { } of you!\n",
        "\"\"\""
      ],
      "metadata": {
        "id": "4ofDhE8ZPd4N"
      },
      "execution_count": null,
      "outputs": []
    },
    {
      "cell_type": "code",
      "source": [
        "def madlib():\n",
        "  story = \"\"\"\n",
        "  Roses are {}\n",
        "  Violets are {}\n",
        "  and you make me feel { } of you!\n",
        "  \"\"\"\n",
        "\n",
        "  colour1 = input(\"what colour are roses? \")\n",
        "  colour2 = input(\"what colour are Violets? \")\n",
        "  feeling = input(\"How does this person make you feel? \")\n",
        "\n",
        "  print(story.format(colour1, colour2, feeling))\n",
        "\n",
        "madlib()"
      ],
      "metadata": {
        "id": "KJouwimtPRXf",
        "outputId": "90b5c148-b31d-41bb-9829-cc84bcc93709",
        "colab": {
          "base_uri": "https://localhost:8080/",
          "height": 374
        }
      },
      "execution_count": 8,
      "outputs": [
        {
          "name": "stdout",
          "output_type": "stream",
          "text": [
            "what colour are roses? red\n",
            "what colour are Violets? blue\n",
            "How does this person make you feel? loved\n"
          ]
        },
        {
          "output_type": "error",
          "ename": "KeyError",
          "evalue": "ignored",
          "traceback": [
            "\u001b[0;31m---------------------------------------------------------------------------\u001b[0m",
            "\u001b[0;31mKeyError\u001b[0m                                  Traceback (most recent call last)",
            "\u001b[0;32m<ipython-input-8-ba94f29e8854>\u001b[0m in \u001b[0;36m<module>\u001b[0;34m()\u001b[0m\n\u001b[1;32m     12\u001b[0m   \u001b[0mprint\u001b[0m\u001b[0;34m(\u001b[0m\u001b[0mstory\u001b[0m\u001b[0;34m.\u001b[0m\u001b[0mformat\u001b[0m\u001b[0;34m(\u001b[0m\u001b[0mcolour1\u001b[0m\u001b[0;34m,\u001b[0m \u001b[0mcolour2\u001b[0m\u001b[0;34m,\u001b[0m \u001b[0mfeeling\u001b[0m\u001b[0;34m)\u001b[0m\u001b[0;34m)\u001b[0m\u001b[0;34m\u001b[0m\u001b[0;34m\u001b[0m\u001b[0m\n\u001b[1;32m     13\u001b[0m \u001b[0;34m\u001b[0m\u001b[0m\n\u001b[0;32m---> 14\u001b[0;31m \u001b[0mmadlib\u001b[0m\u001b[0;34m(\u001b[0m\u001b[0;34m)\u001b[0m\u001b[0;34m\u001b[0m\u001b[0;34m\u001b[0m\u001b[0m\n\u001b[0m",
            "\u001b[0;32m<ipython-input-8-ba94f29e8854>\u001b[0m in \u001b[0;36mmadlib\u001b[0;34m()\u001b[0m\n\u001b[1;32m     10\u001b[0m   \u001b[0mfeeling\u001b[0m \u001b[0;34m=\u001b[0m \u001b[0minput\u001b[0m\u001b[0;34m(\u001b[0m\u001b[0;34m\"How does this person make you feel? \"\u001b[0m\u001b[0;34m)\u001b[0m\u001b[0;34m\u001b[0m\u001b[0;34m\u001b[0m\u001b[0m\n\u001b[1;32m     11\u001b[0m \u001b[0;34m\u001b[0m\u001b[0m\n\u001b[0;32m---> 12\u001b[0;31m   \u001b[0mprint\u001b[0m\u001b[0;34m(\u001b[0m\u001b[0mstory\u001b[0m\u001b[0;34m.\u001b[0m\u001b[0mformat\u001b[0m\u001b[0;34m(\u001b[0m\u001b[0mcolour1\u001b[0m\u001b[0;34m,\u001b[0m \u001b[0mcolour2\u001b[0m\u001b[0;34m,\u001b[0m \u001b[0mfeeling\u001b[0m\u001b[0;34m)\u001b[0m\u001b[0;34m)\u001b[0m\u001b[0;34m\u001b[0m\u001b[0;34m\u001b[0m\u001b[0m\n\u001b[0m\u001b[1;32m     13\u001b[0m \u001b[0;34m\u001b[0m\u001b[0m\n\u001b[1;32m     14\u001b[0m \u001b[0mmadlib\u001b[0m\u001b[0;34m(\u001b[0m\u001b[0;34m)\u001b[0m\u001b[0;34m\u001b[0m\u001b[0;34m\u001b[0m\u001b[0m\n",
            "\u001b[0;31mKeyError\u001b[0m: ' '"
          ]
        }
      ]
    },
    {
      "cell_type": "markdown",
      "source": [
        "#Using Keyword Arguments\n",
        "____\n",
        "\n",
        "```\n",
        "story = \"\"\"\n",
        "Roses are {colour}\n",
        "Violets are {colour2}\n",
        "and you make me feel {emotion} with you!\n",
        "\"\"\"\n",
        "```\n",
        "\n",
        "Notice that in this example, the placeholders have a sensible name (keyword) to help identify which information is being added to where in the story.  This means that the inputs can be asked for in any order, but it changes how the string.format() method is run as the variable name has to be linked to the keyword:\n",
        "\n",
        "```\n",
        "print(story.format(colour=colour, colour2=colour2, emotion=emotion))\n",
        "```\n",
        "This assumes that the variable names for the inputs are colour, colour2 and emotion.\n",
        "\n",
        "###Have a go\n",
        "____\n",
        "\n",
        "Try this out in the cell below:\n"
      ],
      "metadata": {
        "id": "9ZyckHS8dVW2"
      }
    },
    {
      "cell_type": "code",
      "metadata": {
        "id": "YJeP2teXC0cV"
      },
      "source": [
        "\n"
      ],
      "execution_count": null,
      "outputs": []
    },
    {
      "cell_type": "markdown",
      "source": [
        "# Create Your Own Story\n",
        "_____\n",
        "\n",
        "This site has lots of silly stories to choose from:\n",
        "\n",
        "https://www.squiglysplayhouse.com/WritingCorner/StoryBuilder/\n",
        "\n",
        "Choose a story and code the madlibs for this story into the cell below."
      ],
      "metadata": {
        "id": "uTI9iQpsiks1"
      }
    },
    {
      "cell_type": "code",
      "source": [
        ""
      ],
      "metadata": {
        "id": "1x6W4Uzpi3FX"
      },
      "execution_count": null,
      "outputs": []
    }
  ]
}